{
  "cells": [
    {
      "cell_type": "markdown",
      "metadata": {},
      "source": [
        "<picture>\n",
        "  <source media=\"(prefers-color-scheme: dark)\" srcset=\"../images/tucca-rna-seq-logo-white.png\">\n",
        "  <img src=\"../images/tucca-rna-seq-logo.png\" alt=\"tucca-rna-seq logo\" width=\"250\">\n",
        "</picture>\n",
        "\n",
        "# `tucca-rna-seq` on Google Cloud Batch\n",
        "\n",
        "This notebook orchestrates the `tucca-rna-seq` workflow on **Google Cloud Batch**, a fully managed service for running batch computing workloads at scale. Unlike the `google_colab_runner.ipynb`, which runs the entire workflow on a single Colab instance, this notebook uses Colab as a lightweight client to submit jobs to Google's powerful cloud infrastructure.\n",
        "\n",
        "### Key Features:\n",
        "- **Massive Scalability**: Execute hundreds or thousands of jobs in parallel on powerful, custom-configured virtual machines.\n",
        "- **Cost-Effective**: Pay only for the compute resources you use. Google Batch automatically provisions and shuts down VMs for each job.\n",
        "- **Centralized Storage**: Utilizes Google Cloud Storage (GCS) for all workflow data, ensuring it's accessible to all jobs.\n",
        "- **Orchestration from Colab**: Use the familiar Colab interface to manage and monitor your large-scale analyses.\n",
        "\n",
        "### How to Use:\n",
        "1.  **Set up Google Cloud**: Ensure you have a Google Cloud project with billing enabled and the [Batch API enabled](https://cloud.google.com/batch/docs/get-started#enable-batch-for-a-project).\n",
        "2.  **Authenticate**: Grant this notebook access to your Google Cloud account.\n",
        "3.  **Configure Storage**: Specify your GCS bucket.\n",
        "4.  **Upload Data**: Upload your configured workflow files and raw data to your GCS bucket.\n",
        "5.  **Execute the Workflow**: Run the final cell to submit the workflow to Google Batch.\n",
        "6.  **Monitor**: Keep track of your job's progress in the Google Cloud Console or directly within this notebook.\n",
        "\n",
        "Let's get started!\n"
      ]
    },
    {
      "cell_type": "markdown",
      "metadata": {},
      "source": [
        "## Workflow Overview\n",
        "\n",
        "<div align=\"center\">\n",
        "  <img alt=\"tucca-rna-seq workflow map\" src=\"../images/tucca-rna-seq-workflow.png\" width=\"700\">\n",
        "  <p>Created in <a href=\"https://BioRender.com\">https://BioRender.com</a></p>\n",
        "</div>\n",
        "\n",
        "## Rulegraph\n",
        "\n",
        "<div align=\"center\">\n",
        "  <img alt=\"tucca-rna-seq workflow map\" src=\"../images/rulegraph.png\" width=\"700\">\n",
        "  <p>Created via <code>snakemake --rulegraph</code></p>\n",
        "</div>\n"
      ]
    },
    {
      "cell_type": "markdown",
      "metadata": {},
      "source": [
        "### 1. Authenticate with Google Cloud\n",
        "\n",
        "This cell authenticates your Google account, allowing the notebook to interact with Google Cloud Batch and Google Cloud Storage on your behalf. You will be prompted to log in and authorize access.\n"
      ]
    },
    {
      "cell_type": "code",
      "execution_count": null,
      "metadata": {},
      "outputs": [],
      "source": [
        "from google.colab import auth\n",
        "import os\n",
        "import subprocess\n",
        "\n",
        "# Authenticate with Google Cloud\n",
        "auth.authenticate_user()\n",
        "\n",
        "# Get the GCP project ID from the gcloud config\n",
        "project_id = subprocess.run(\n",
        "    [\"gcloud\", \"config\", \"get-value\", \"project\"],\n",
        "    capture_output=True,\n",
        "    text=True\n",
        ").stdout.strip()\n",
        "\n",
        "print(f\"✅ Automatically detected project ID: {project_id}\")\n",
        "\n",
        "# @markdown ---\n",
        "# @markdown ### 📝 **Review and Confirm Project ID**\n",
        "# @markdown The Google Cloud Project ID has been detected automatically. If you wish to use a different project, you can specify it below.\n",
        "gcp_project_id = project_id # @param {type:\"string\"}\n",
        "\n",
        "\n",
        "os.environ['GOOGLE_CLOUD_PROJECT'] = gcp_project_id\n",
        "\n",
        "print(f\"✅ Using project ID: {gcp_project_id}\")\n",
        "\n",
        "# Verify authentication\n",
        "!gcloud config list\n"
      ]
    },
    {
      "cell_type": "markdown",
      "metadata": {},
      "source": [
        "### 2. Install Snakemake and Google Cloud Plugins\n",
        "\n",
        "This cell installs `Mamba`, `Snakemake`, and the necessary plugins for interacting with Google Cloud Batch and Google Cloud Storage.\n"
      ]
    },
    {
      "cell_type": "code",
      "execution_count": null,
      "metadata": {},
      "outputs": [],
      "source": [
        "import os\n",
        "\n",
        "# Define paths for Mamba installation\n",
        "mamba_prefix = '/usr/local/mamba'\n",
        "\n",
        "# Download and install Mamba\n",
        "if not os.path.exists(os.path.join(mamba_prefix, 'bin', 'mamba')):\n",
        "    print(\"Installing Mamba...\")\n",
        "    !wget -q \"https://github.com/conda-forge/miniforge/releases/latest/download/Mambaforge-Linux-x86_64.sh\" -O Mambaforge.sh\n",
        "    !bash Mambaforge.sh -b -p {mamba_prefix}\n",
        "    !rm Mambaforge.sh\n",
        "else:\n",
        "    print(\"Mamba is already installed.\")\n",
        "\n",
        "# Add Mamba to the system's PATH\n",
        "os.environ['PATH'] = f\"{mamba_prefix}/bin:{os.environ['PATH']}\"\n",
        "\n",
        "# Install Snakemake and Google Cloud plugins\n",
        "print(\"Installing Snakemake and plugins...\")\n",
        "!mamba install -y -c conda-forge -c bioconda snakemake-minimal 'snakemake-executor-plugin-googlebatch>=0.3.0' 'snakemake-storage-plugin-gcs>=0.2.0'\n",
        "\n",
        "print(\"Installation complete.\")\n"
      ]
    },
    {
      "cell_type": "markdown",
      "metadata": {},
      "source": [
        "### 3. Configure Google Cloud Settings\n",
        "\n",
        "This workflow requires all data to be stored in a Google Cloud Storage (GCS) bucket.\n",
        "\n",
        "#### Instructions:\n",
        "1.  **Create a GCS Bucket**: If you don't have one already, create a GCS bucket in your Google Cloud project.\n",
        "2.  **Set the Bucket Name**: In the code cell below, replace `\"your-gcs-bucket-name\"` with the name of your bucket.\n"
      ]
    },
    {
      "cell_type": "code",
      "execution_count": null,
      "metadata": {},
      "outputs": [],
      "source": [
        "# @title Cloud Configuration\n",
        "gcs_bucket = \"your-gcs-bucket-name\" # @param {type:\"string\"}\n",
        "region = 'us-central1' # @param {type:\"string\"}\n",
        "\n",
        "# Set the remote workdir path in GCS\n",
        "remote_workdir = f\"gs://{gcs_bucket}/tucca-rna-seq-workdir\"\n",
        "\n",
        "# Verify that the bucket exists, or create it.\n",
        "# The -l flag sets the location to be the same as the VM region for performance.\n",
        "print(f\"Checking for GCS bucket gs://{gcs_bucket}...\")\n",
        "!gsutil ls gs://{gcs_bucket} || gsutil mb -p {gcp_project_id} -l {region} gs://{gcs_bucket}\n"
      ]
    },
    {
      "cell_type": "markdown",
      "metadata": {},
      "source": [
        "### 4. Upload Data and Configuration to GCS\n",
        "\n",
        "The Google Batch jobs will need access to your raw data and configuration files. This section provides instructions for uploading them to your GCS bucket.\n",
        "\n",
        "#### Instructions:\n",
        "1.  **Clone the Repository Locally**: `git clone https://github.com/tucca-cellag/tucca-rna-seq.git`\n",
        "2.  **Prepare your files**: Modify your local `config/config.yaml`, `config/samples.tsv`, and `config/units.tsv` files for your analysis. Place your raw data in the `data/raw_data/` directory.\n",
        "3.  **Upload to GCS**: Use the `gsutil` command to copy your project directory to GCS.\n",
        "\n",
        "```bash\n",
        "# Example command to run from your local machine:\n",
        "gsutil -m rsync -r ./tucca-rna-seq gs://your-gcs-bucket-name/tucca-rna-seq\n",
        "```\n"
      ]
    },
    {
      "cell_type": "markdown",
      "metadata": {},
      "source": [
        "### 5. Execute the Workflow on Google Batch\n",
        "\n",
        "This command submits the Snakemake workflow to Google Batch. Snakemake will orchestrate the jobs from this notebook, but the actual computation will happen on dedicated VMs in the cloud.\n"
      ]
    },
    {
      "cell_type": "code",
      "execution_count": null,
      "metadata": {},
      "outputs": [],
      "source": [
        "# Perform a dry run first to validate the setup\n",
        "# The --default-remote-prefix points to the workflow directory in GCS.\n",
        "print(\"--- Performing a dry run of the workflow on Google Batch ---\")\n",
        "!snakemake \\\n",
        "    --executor googlebatch \\\n",
        "    --storage-provider gcs \\\n",
        "    --default-remote-prefix {gcs_bucket}/tucca-rna-seq \\\n",
        "    --googlebatch-project {gcp_project_id} \\\n",
        "    --googlebatch-region {region} \\\n",
        "    --jobs 999 \\\n",
        "    -n\n",
        "\n",
        "# After verifying the dry run, uncomment the command below to execute the full workflow\n",
        "# print(\"\\n--- To run the full workflow, uncomment and run the following command ---\")\n",
        "# !snakemake \\\n",
        "#     --executor googlebatch \\\n",
        "#     --storage-provider gcs \\\n",
        "#     --default-remote-prefix {gcs_bucket}/tucca-rna-seq \\\n",
        "#     --googlebatch-project {gcp_project_id} \\\n",
        "#     --googlebatch-region {region} \\\n",
        "#     --jobs 999\n",
        "\n"
      ]
    },
    {
      "cell_type": "markdown",
      "metadata": {},
      "source": [
        "### 6. Monitor the Workflow\n",
        "\n",
        "You can monitor the progress of your job in two ways:\n",
        "\n",
        "1.  **Google Cloud Console**: For detailed logs and job information, navigate to the [**Batch** page](https://console.cloud.google.com/batch/jobs) in the Google Cloud Console.\n",
        "2.  **In this Notebook**: Run the cell below to get a summary of your recent jobs and their current status.\n"
      ]
    },
    {
      "cell_type": "code",
      "execution_count": null,
      "metadata": {},
      "outputs": [],
      "source": [
        "# @title Check Job Status\n",
        "# @markdown Run this cell to list your Google Batch jobs and check their status.\n",
        "print(f\"--- Fetching job status from region: {region} ---\")\n",
        "!gcloud batch jobs list --location={region}\n"
      ]
    },
    {
      "cell_type": "markdown",
      "metadata": {},
      "source": [
        "### 7. Retrieve Results\n",
        "\n",
        "Once the workflow is complete, your results will be located in the `results/` directory inside your GCS bucket (`gs://your-gcs-bucket-name/tucca-rna-seq/results/`). You can download them using the `gsutil` command or the Cloud Console UI.\n"
      ]
    }
  ],
  "metadata": {
    "language_info": {
      "name": "python"
    }
  },
  "nbformat": 4,
  "nbformat_minor": 2
}
