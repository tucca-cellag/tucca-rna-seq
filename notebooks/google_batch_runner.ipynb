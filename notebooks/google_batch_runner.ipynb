{
  "cells": [
    {
      "cell_type": "markdown",
      "metadata": {},
      "source": [
        "<picture>\n",
        "  <source media=\"(prefers-color-scheme: dark)\" srcset=\"../images/tucca-rna-seq-logo-white.png\">\n",
        "  <img src=\"../images/tucca-rna-seq-logo.png\" alt=\"tucca-rna-seq logo\" width=\"250\">\n",
        "</picture>\n",
        "\n",
        "# `tucca-rna-seq` on Google Cloud Batch\n",
        "\n",
        "This notebook orchestrates the `tucca-rna-seq` workflow on **Google Cloud Batch**, a fully managed service for running batch computing workloads at scale. Unlike the `google_colab_runner.ipynb`, which runs the entire workflow on a single Colab instance, this notebook uses Colab as a lightweight client to submit jobs to Google's powerful cloud infrastructure.\n",
        "\n",
        "### Key Features:\n",
        "- **Massive Scalability**: Execute hundreds or thousands of jobs in parallel on powerful, custom-configured virtual machines.\n",
        "- **Cost-Effective**: Pay only for the compute resources you use. Google Batch automatically spins up and shuts down VMs for each job.\n",
        "- **Centralized Storage**: Utilizes Google Cloud Storage (GCS) for all workflow data, ensuring it's accessible to all jobs.\n",
        "- **Orchestration from Colab**: Use the familiar Colab interface to manage and monitor your large-scale analyses.\n",
        "\n",
        "### How to Use:\n",
        "1.  **Set up Google Cloud**: Ensure you have a Google Cloud project with billing enabled.\n",
        "2.  **Authenticate**: Run the authentication cell to grant this notebook access to your Google Cloud account.\n",
        "3.  **Configure Storage**: Specify your GCS bucket and upload your data.\n",
        "4.  **Execute the Workflow**: Run the final cell to submit the workflow to Google Batch.\n",
        "\n",
        "Let's get started!\n"
      ]
    },
    {
      "cell_type": "markdown",
      "metadata": {},
      "source": [
        "### 1. Authenticate with Google Cloud\n",
        "\n",
        "This cell authenticates your Google account, allowing the notebook to interact with Google Cloud Batch and Google Cloud Storage on your behalf. You will be prompted to log in and authorize access.\n"
      ]
    },
    {
      "cell_type": "code",
      "execution_count": null,
      "metadata": {},
      "outputs": [],
      "source": [
        "from google.colab import auth\n",
        "import os\n",
        "\n",
        "# Authenticate with Google Cloud\n",
        "auth.authenticate_user()\n",
        "\n",
        "# Set your Google Cloud project ID\n",
        "project_id = 'your-gcp-project-id' # @param {type:\"string\"}\n",
        "os.environ['GOOGLE_CLOUD_PROJECT'] = project_id\n",
        "\n",
        "# Verify authentication\n",
        "!gcloud config list\n",
        "\n"
      ]
    },
    {
      "cell_type": "markdown",
      "metadata": {},
      "source": [
        "### 2. Install Snakemake and Google Cloud Plugins\n",
        "\n",
        "This cell installs `Mamba`, `Snakemake`, and the necessary plugins for interacting with Google Cloud Batch and Google Cloud Storage.\n"
      ]
    },
    {
      "cell_type": "code",
      "execution_count": null,
      "metadata": {},
      "outputs": [],
      "source": [
        "import os\n",
        "\n",
        "# Define paths for Mamba installation\n",
        "mamba_prefix = '/usr/local/mamba'\n",
        "\n",
        "# Download and install Mamba\n",
        "if not os.path.exists(os.path.join(mamba_prefix, 'bin', 'mamba')):\n",
        "    print(\"Installing Mamba...\")\n",
        "    !wget -q \"https://github.com/conda-forge/miniforge/releases/latest/download/Mambaforge-Linux-x86_64.sh\" -O Mambaforge.sh\n",
        "    !bash Mambaforge.sh -b -p {mamba_prefix}\n",
        "    !rm Mambaforge.sh\n",
        "else:\n",
        "    print(\"Mamba is already installed.\")\n",
        "\n",
        "# Add Mamba to the system's PATH\n",
        "os.environ['PATH'] = f\"{mamba_prefix}/bin:{os.environ['PATH']}\"\n",
        "\n",
        "# Install Snakemake and Google Cloud plugins\n",
        "print(\"Installing Snakemake and plugins...\")\n",
        "!mamba install -y -c conda-forge -c bioconda snakemake-minimal 'snakemake-executor-plugin-googlebatch>=0.3.0' 'snakemake-storage-plugin-gcs>=0.2.0'\n",
        "\n",
        "print(\"Installation complete.\")\n"
      ]
    },
    {
      "cell_type": "markdown",
      "metadata": {},
      "source": [
        "### 3. Configure Google Cloud Storage\n",
        "\n",
        "This workflow requires all data to be stored in a Google Cloud Storage (GCS) bucket. This cell helps you configure the bucket and provides instructions for uploading your data.\n",
        "\n",
        "#### Instructions:\n",
        "1.  **Create a GCS Bucket**: If you don't have one already, create a GCS bucket in your Google Cloud project.\n",
        "2.  **Set the Bucket Name**: In the code cell below, replace `\"your-gcs-bucket-name\"` with the name of your bucket.\n",
        "3.  **Upload Your Data**: Upload your raw sequencing files to a `raw_data` directory inside your bucket.\n"
      ]
    },
    {
      "cell_type": "code",
      "execution_count": null,
      "metadata": {},
      "outputs": [],
      "source": [
        "# The GCS bucket where your data and results will be stored\n",
        "gcs_bucket = \"your-gcs-bucket-name\" # @param {type:\"string\"}\n",
        "remote_workdir = f\"gs://{gcs_bucket}/tucca-rna-seq-workdir\"\n",
        "\n",
        "# Verify that the bucket exists\n",
        "!gsutil ls {remote_workdir} || gsutil mb -p {project_id} gs://{gcs_bucket}\n",
        "\n"
      ]
    },
    {
      "cell_type": "markdown",
      "metadata": {},
      "source": [
        "### 4. Execute the Workflow on Google Batch\n",
        "\n",
        "This cell submits the Snakemake workflow to Google Batch. Snakemake will orchestrate the jobs from this notebook, but the actual computation will happen on dedicated VMs in the cloud.\n"
      ]
    },
    {
      "cell_type": "code",
      "execution_count": null,
      "metadata": {},
      "outputs": [],
      "source": [
        "# Your Google Cloud region\n",
        "gcp_region = \"us-central1\" # @param {type:\"string\"}\n",
        "\n",
        "# Perform a dry run first to validate the setup\n",
        "print(\"--- Performing a dry run of the workflow on Google Batch ---\")\n",
        "!snakemake \\\n",
        "    --executor googlebatch \\\n",
        "    --storage-provider gcs \\\n",
        "    --default-remote-prefix {remote_workdir} \\\n",
        "    --googlebatch-project {project_id} \\\n",
        "    --googlebatch-region {gcp_region} \\\n",
        "    --jobs 999 \\\n",
        "    -n\n",
        "\n",
        "# After verifying the dry run, uncomment the command below to execute the full workflow\n",
        "# print(\"\\n--- To run the full workflow, uncomment and run the following command ---\")\n",
        "# !snakemake \\\n",
        "#     --executor googlebatch \\\n",
        "#     --storage-provider gcs \\\n",
        "#     --default-remote-prefix {remote_workdir} \\\n",
        "#     --googlebatch-project {project_id} \\\n",
        "#     --googlebatch-region {gcp_region} \\\n",
        "#     --jobs 999\n",
        "\n"
      ]
    }
  ],
  "metadata": {
    "language_info": {
      "name": "python"
    }
  },
  "nbformat": 4,
  "nbformat_minor": 2
}
