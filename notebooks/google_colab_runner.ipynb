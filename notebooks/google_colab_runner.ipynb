{
  "cells": [
    {
      "cell_type": "markdown",
      "metadata": {},
      "source": [
        "<picture>\n",
        "  <source media=\"(prefers-color-scheme: dark)\" srcset=\"../images/tucca-rna-seq-logo-white.png\">\n",
        "  <img src=\"../images/tucca-rna-seq-logo.png\" alt=\"tucca-rna-seq logo\" width=\"250\">\n",
        "</picture>\n",
        "\n",
        "# `tucca-rna-seq` on Google Colab\n",
        "\n",
        "**`tucca-cellag/tucca-rna-seq`** is a modular RNA-Seq workflow developed in the [Kaplan Lab at TUCCA](https://cellularagriculture.tufts.edu/) and is adaptable for most RNA-Seq projects.\n",
        "\n",
        "Initially, this workflow was tailored for cellular agriculture research, focusing on the analysis of muscle and fat cell transcriptomes. Over time, it has been expanded into a flexible and modular tool suitable for a broad range of RNA-Seq applications. Its adaptable design allows for easy modification to fit various experimental needs beyond its original scope.\n",
        "\n",
        "> **Colab Pro Tip**: For best performance, consider selecting a high-RAM runtime environment via `Runtime` -> `Change runtime type` in the Colab menu.\n",
        "\n",
        "This notebook provides a self-contained environment to run the `tucca-rna-seq` workflow on Google Colab, eliminating the need for local installation. It automates the setup of all dependencies, including `mamba` and `Snakemake`, and runs the workflow using Conda. Once the workflow is complete, you can also launch interactive Shiny apps to visualize your results.\n",
        "\n",
        "> [!WARNING]\n",
        "> This workflow is still under construction. [Release v0.9.0](https://github.com/tucca-cellag/tucca-rna-seq/releases/tag/v0.9.0) marks our first public release. v0.9.0 contains all logic to process raw paired-end RNA-Seq reads through differential expression. The centerpiece of the v1.0.0 release will be an interactive analysis toolkit that allows you to dynamically explore and visualize your results.\n",
        "\n",
        "### Key Features:\n",
        "- **Zero Local Installation**: Runs the entire workflow in the cloud.\n",
        "- **Persistent Caching**: Connects to your Google Drive to cache `conda` environments and `renv` packages, speeding up subsequent runs.\n",
        "- **Full Functionality**: Executes the complete, unmodified workflow, ensuring reproducibility.\n",
        "\n",
        "### How to Use:\n",
        "1.  **Run the cells sequentially**: Execute each cell in order from top to bottom.\n",
        "2.  **Authorize Google Drive access**: When prompted, grant permission for this notebook to access your Google Drive. This is required for caching.\n",
        "3.  **Configure your analysis**: Modify the `config.yaml`, `samples.tsv`, and `units.tsv` files as needed for your specific experiment.\n",
        "4.  **Execute the workflow**: Run the final cell to start the Snakemake pipeline.\n",
        "\n",
        "Let's get started!\n"
      ]
    },
    {
      "cell_type": "markdown",
      "metadata": {},
      "source": [
        "## Workflow Overview\n",
        "\n",
        "<div align=\"center\">\n",
        "  <img alt=\"tucca-rna-seq workflow map\" src=\"../images/tucca-rna-seq-workflow.png\" width=\"700\">\n",
        "  <p>Created in <a href=\"https://BioRender.com\">https://BioRender.com</a></p>\n",
        "</div>\n",
        "\n",
        "## Rulegraph\n",
        "\n",
        "<div align=\"center\">\n",
        "  <img alt=\"tucca-rna-seq workflow map\" src=\"../images/rulegraph.png\" width=\"700\">\n",
        "  <p>Created via <code>snakemake --rulegraph</code></p>\n",
        "</div>\n"
      ]
    },
    {
      "cell_type": "markdown",
      "metadata": {},
      "source": [
        "### 1. Mount Google Drive and Set Up Caching\n",
        "\n",
        "This cell mounts your Google Drive to the Colab environment and sets up directories for caching `conda` packages and environments. This allows for persistent storage, so you don't have to reinstall everything every time.\n"
      ]
    },
    {
      "cell_type": "code",
      "execution_count": null,
      "metadata": {},
      "outputs": [],
      "source": [
        "from google.colab import drive\n",
        "import os\n",
        "\n",
        "# Mount Google Drive\n",
        "drive.mount('/content/drive')\n",
        "\n",
        "# Create a symlink for easier access to the project folder on Google Drive\n",
        "# This helps in creating a consistent path for the project.\n",
        "project_root = '/content/tucca-rna-seq-dev'\n",
        "gdrive_project_path = '/content/drive/MyDrive/Colab_Workspaces/tucca-rna-seq-dev'\n",
        "\n",
        "if not os.path.exists(gdrive_project_path):\n",
        "    os.makedirs(gdrive_project_path, exist_ok=True)\n",
        "    print(f\"Created Google Drive project directory: {gdrive_project_path}\")\n",
        "\n",
        "if not os.path.lexists(project_root):\n",
        "    os.symlink(gdrive_project_path, project_root, target_is_directory=True)\n",
        "    print(f\"Symlinked {gdrive_project_path} to {project_root}\")\n",
        "\n",
        "# Change the current working directory to the project root\n",
        "# This ensures that all subsequent commands are run from the correct directory.\n",
        "os.chdir(project_root)\n",
        "print(f\"Changed working directory to: {os.getcwd()}\")\n"
      ]
    },
    {
      "cell_type": "markdown",
      "metadata": {},
      "source": [
        "### 2. Clone the Workflow Repository\n",
        "\n",
        "This cell clones the `tucca-rna-seq` workflow from its GitHub repository into your Google Drive, ensuring you have the latest version of the code.\n"
      ]
    },
    {
      "cell_type": "code",
      "execution_count": null,
      "metadata": {},
      "outputs": [],
      "source": [
        "import os\n",
        "\n",
        "# Define the path to the tucca-rna-seq repository\n",
        "repo_path = 'tucca-rna-seq'\n",
        "repo_url = 'https://github.com/tucca-cellag/tucca-rna-seq.git'\n",
        "gdrive_repo_path = f'/content/drive/MyDrive/Colab_Workspaces/tucca-rna-seq-dev/{repo_path}'\n",
        "\n",
        "# Check if the repository is already cloned\n",
        "if not os.path.exists(gdrive_repo_path):\n",
        "    print(\"Cloning the tucca-rna-seq repository...\")\n",
        "    # Use a git clone command to download the repository\n",
        "    !git clone {repo_url} {gdrive_repo_path}\n",
        "else:\n",
        "    print(\"Repository already cloned. Pulling latest changes...\")\n",
        "    # Navigate to the repository and pull the latest changes\n",
        "    %cd {gdrive_repo_path}\n",
        "    !git pull\n",
        "    %cd /content/tucca-rna-seq-dev\n",
        "\n",
        "# Navigate into the workflow directory for subsequent commands\n",
        "workflow_dir = gdrive_repo_path\n",
        "os.chdir(workflow_dir)\n",
        "print(f\"Current working directory: {os.getcwd()}\")\n"
      ]
    },
    {
      "cell_type": "markdown",
      "metadata": {},
      "source": [
        "### 3. Install Mamba, Snakemake, and Setup Caching\n",
        "\n",
        "This cell installs `Mamba` (a fast package manager) and `Snakemake`. It also configures caching to your Google Drive to avoid re-installing dependencies in future sessions.\n"
      ]
    },
    {
      "cell_type": "code",
      "execution_count": null,
      "metadata": {},
      "outputs": [],
      "source": [
        "import os\n",
        "\n",
        "# Define paths for Conda and renv caching on Google Drive\n",
        "gdrive_cache_path = '/content/drive/MyDrive/Colab_Workspaces/tucca-rna-seq-dev/.cache'\n",
        "mamba_prefix = os.path.join(gdrive_cache_path, 'mamba')\n",
        "renv_cache_home = os.path.join(gdrive_cache_path, 'renv')\n",
        "conda_pkgs_dirs = os.path.join(mamba_prefix, 'pkgs')\n",
        "renv_cache_path = os.path.join(renv_cache_home, 'v5')\n",
        "\n",
        "# Create cache directories if they don't exist\n",
        "os.makedirs(mamba_prefix, exist_ok=True)\n",
        "os.makedirs(renv_cache_path, exist_ok=True)\n",
        "os.makedirs(conda_pkgs_dirs, exist_ok=True)\n",
        "\n",
        "# Set environment variables for caching\n",
        "os.environ['CONDA_PKGS_DIRS'] = conda_pkgs_dirs\n",
        "os.environ['RENV_PATHS_CACHE'] = renv_cache_path\n",
        "\n",
        "# Download and install Mamba\n",
        "if not os.path.exists(os.path.join(mamba_prefix, 'bin', 'mamba')):\n",
        "    print(\"Installing Mamba...\")\n",
        "    # Download the Mambaforge installer\n",
        "    !wget -q \"https://github.com/conda-forge/miniforge/releases/latest/download/Mambaforge-Linux-x86_64.sh\" -O Mambaforge.sh\n",
        "    # Install Mamba to the specified path\n",
        "    !bash Mambaforge.sh -b -p {mamba_prefix}\n",
        "    # Clean up the installer\n",
        "    !rm Mambaforge.sh\n",
        "else:\n",
        "    print(\"Mamba is already installed.\")\n",
        "\n",
        "# Add Mamba to the system's PATH\n",
        "os.environ['PATH'] = f\"{mamba_prefix}/bin:{os.environ['PATH']}\"\n",
        "\n",
        "# Install Snakemake using Mamba\n",
        "print(\"Installing Snakemake and plugins...\")\n",
        "!mamba install -y -c conda-forge -c bioconda 'snakemake>=8.14.0'\n",
        "\n",
        "print(\"Installation complete.\")\n"
      ]
    },
    {
      "cell_type": "markdown",
      "metadata": {},
      "source": [
        "### 4. Upload Your Data\n",
        "\n",
        "Before you configure the analysis, you need to upload your raw sequencing data.\n",
        "\n",
        "#### Instructions:\n",
        "1.  **Open the File Browser**: Click on the folder icon on the left sidebar.\n",
        "2.  **Navigate to the data directory**: Go to `tucca-rna-seq` -> `data` -> `raw_data`.\n",
        "3.  **Upload your files**: Drag and drop your raw sequencing files (e.g., `.fastq.gz`) into this directory.\n",
        "\n",
        "> **Pro Tip for Large Datasets**: If you have large files, the drag-and-drop method can be slow. A more robust approach is to first upload your data to a Google Cloud Storage (GCS) bucket and then copy it into the Colab environment using the `gsutil` command. You can add a code cell and run `!gsutil -m rsync -r gs://your-bucket-name/path/to/data .` to do this efficiently.\n",
        "\n",
        "Once your data is uploaded, you can proceed to the next step to configure your analysis.\n"
      ]
    },
    {
      "cell_type": "markdown",
      "metadata": {},
      "source": [
        "### 5. Configure Your Analysis\n",
        "\n",
        "Now that the environment is set up, it's time to configure the workflow for your specific analysis. You can edit the necessary configuration files directly in the Colab file browser.\n",
        "\n",
        "#### Instructions:\n",
        "1.  **Open the File Browser**: Click on the folder icon on the left sidebar to open the file browser.\n",
        "2.  **Navigate to the `config` directory**: Go to `tucca-rna-seq` -> `config`.\n",
        "3.  **Edit the configuration files**:\n",
        "    *   `config.yaml`: This is the main configuration file where you define parameters for the analysis, such as the reference genome, differential expression settings, and pathway analysis options.\n",
        "    *   `samples.tsv`: This file defines the biological samples in your experiment.\n",
        "    *   `units.tsv`: This file defines the sequencing units (e.g., technical replicates) for each sample.\n",
        "\n",
        "You can double-click on these files to open them in the editor and make your changes. Once you have saved your changes, you can proceed to the next step to run the workflow.\n"
      ]
    },
    {
      "cell_type": "markdown",
      "metadata": {},
      "source": [
        "### 6. Execute the Workflow\n",
        "\n",
        "This cell runs the Snakemake workflow. It starts with a dry run (`-n`) to display the jobs that will be executed, allowing you to verify the configuration before starting the full analysis.\n"
      ]
    },
    {
      "cell_type": "markdown",
      "metadata": {},
      "source": [
        "### Important: Colab Pro and Resource Limits\n",
        "\n",
        "The free version of Google Colab provides limited computational resources and session durations. For long-running or resource-intensive analyses, it is highly recommended to use **Colab Pro**.\n",
        "\n",
        "#### Preventing Session Timeouts\n",
        "To prevent your Colab session from timing out during a long run, you can run the following Javascript code in your browser's developer console. This will automatically click the \"Connect\" button every 60 seconds, keeping the session active.\n",
        "\n",
        "```javascript\n",
        "function ClickConnect(){\n",
        "  console.log(\"Working\"); \n",
        "  document.querySelector(\"colab-connect-button\").click() \n",
        "}\n",
        "setInterval(ClickConnect,60000)\n",
        "```\n"
      ]
    },
    {
      "cell_type": "code",
      "execution_count": null,
      "metadata": {},
      "outputs": [],
      "source": [
        "# @title Execute Workflow\n",
        "# @markdown Use the form below to specify the number of cores for Snakemake.\n",
        "cores = 2 # @param {type:\"integer\"}\n",
        "\n",
        "import os\n",
        "\n",
        "# Define the path to the Conda environments, using the cache on Google Drive\n",
        "conda_prefix = os.path.join(os.environ['CONDA_PKGS_DIRS'], 'env')\n",
        "\n",
        "# Perform a dry run of the workflow to validate the setup\n",
        "print(\"--- Performing a dry run of the workflow ---\")\n",
        "!snakemake --use-conda --conda-prefix {conda_prefix} --cores {cores} -n\n",
        "\n",
        "# After verifying the dry run, you can execute the full workflow by\n",
        "# removing the `-n` flag from the command below.\n",
        "print(\"\\n--- To run the full workflow, uncomment and run the following command ---\")\n",
        "# !snakemake --use-conda --conda-prefix {conda_prefix} --cores {cores} --verbose\n"
      ]
    },
    {
      "cell_type": "markdown",
      "metadata": {},
      "source": [
        "### 8. Visualize Results Locally\n",
        "\n",
        "Once your Snakemake workflow has completed successfully, all output files are saved within the `results/` and `resources/` directories in your project folder. The `tucca-rna-seq` repository includes powerful, interactive R-based playgrounds to explore these results locally using RStudio.\n",
        "\n",
        "#### Instructions:\n",
        "\n",
        "1.  **Download Your Project Folder**:\n",
        "    *   After the workflow completes, use the file browser on the left panel of Colab.\n",
        "    *   Navigate to the location of your `tucca-rna-seq` repository (typically inside your Google Drive at `drive/MyDrive/Colab_Workspaces/tucca-rna-seq-dev/`).\n",
        "    *   Right-click on the `tucca-rna-seq` folder and select **Download**. This will zip the entire project and save it to your computer.\n",
        "    *   Unzip the downloaded file.\n",
        "\n",
        "2.  **Analyze Locally**:\n",
        "    *   Open the `tucca-rna-seq` folder you just downloaded using RStudio.\n",
        "    *   Navigate to the `analysis/` directory.\n",
        "    *   Open `GeneTonic_playground.Rmd` or `pcaExplorer_playground.Rmd`.\n",
        "    *   Follow the instructions within the RMarkdown files to run the interactive visualizations.\n",
        "\n",
        "This approach ensures you have all the necessary data and resources to use the full power of RStudio for an in-depth analysis.\n"
      ]
    }
  ],
  "metadata": {
    "language_info": {
      "name": "python"
    }
  },
  "nbformat": 4,
  "nbformat_minor": 2
}
